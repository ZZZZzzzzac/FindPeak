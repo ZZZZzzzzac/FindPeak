{
 "metadata": {
  "language_info": {
   "codemirror_mode": {
    "name": "ipython",
    "version": 3
   },
   "file_extension": ".py",
   "mimetype": "text/x-python",
   "name": "python",
   "nbconvert_exporter": "python",
   "pygments_lexer": "ipython3",
   "version": 3
  },
  "orig_nbformat": 2,
  "kernelspec": {
   "name": "python_defaultSpec_1597284470828",
   "display_name": "Python 3.7.6 64-bit ('mkl': conda)"
  }
 },
 "nbformat": 4,
 "nbformat_minor": 2,
 "cells": [
  {
   "cell_type": "code",
   "execution_count": null,
   "metadata": {},
   "outputs": [],
   "source": [
    "import numpy as np\n",
    "import matplotlib.pyplot as plt \n",
    "from find_peak_slope import *\n",
    "import scipy.signal as ss\n",
    "from simulate import *\n",
    "from zacLib import mySmooth\n",
    "%matplotlib Qt5"
   ]
  },
  {
   "cell_type": "code",
   "execution_count": null,
   "metadata": {
    "tags": []
   },
   "outputs": [],
   "source": [
    "signal,fs = rd_reader('siga.rd',1,1)\n",
    "nfft = nextpow2(signal.shape[0],n=0) \n",
    "sp = fft(signal,nfft) # get spectrum (fft)\n",
    "sp.tofile('test.dat')\n",
    "print(sp.shape)"
   ]
  },
  {
   "cell_type": "code",
   "execution_count": null,
   "metadata": {
    "tags": []
   },
   "outputs": [],
   "source": [
    "width = 400\n",
    "slope_th = 32\n",
    "ans = find_peak_slope(sp,width,slope_th)"
   ]
  },
  {
   "cell_type": "code",
   "execution_count": null,
   "metadata": {},
   "outputs": [],
   "source": [
    "sp"
   ]
  },
  {
   "cell_type": "code",
   "execution_count": null,
   "metadata": {
    "tags": []
   },
   "outputs": [],
   "source": [
    "%timeit find_peak_slope(sp,width,slope_th)"
   ]
  },
  {
   "cell_type": "code",
   "execution_count": null,
   "metadata": {
    "tags": []
   },
   "outputs": [],
   "source": [
    "%lprun -f find_peak_slope find_peak_slope(sp,width,slope_th)"
   ]
  },
  {
   "cell_type": "code",
   "execution_count": null,
   "metadata": {},
   "outputs": [],
   "source": [
    "file = 'siga.rd'\n",
    "%lprun -f find_peak_slope_from_rd find_peak_slope_from_rd(file,width,slope_th)"
   ]
  },
  {
   "cell_type": "code",
   "execution_count": null,
   "metadata": {},
   "outputs": [],
   "source": [
    "# p1,v1 = get_edge(dsp,slope_th,slope_th/3)\n",
    "# p2,v2 = get_edge2(dsp,slope_th,slope_th/3)\n",
    "# %timeit get_edge(dsp,th=slope_th,thp=slope_th/3)\n",
    "# %timeit get_edge2(dsp,th=slope_th,thp=slope_th/3)"
   ]
  }
 ]
}