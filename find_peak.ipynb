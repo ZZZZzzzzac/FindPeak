{
 "metadata": {
  "language_info": {
   "codemirror_mode": {
    "name": "ipython",
    "version": 3
   },
   "file_extension": ".py",
   "mimetype": "text/x-python",
   "name": "python",
   "nbconvert_exporter": "python",
   "pygments_lexer": "ipython3",
   "version": "3.7.6-final"
  },
  "orig_nbformat": 2,
  "kernelspec": {
   "name": "python_defaultSpec_1597972564634",
   "display_name": "Python 3.7.6 64-bit ('mkl': conda)"
  }
 },
 "nbformat": 4,
 "nbformat_minor": 2,
 "cells": [
  {
   "cell_type": "code",
   "execution_count": 1,
   "metadata": {},
   "outputs": [],
   "source": [
    "import numpy as np\n",
    "import matplotlib.pyplot as plt \n",
    "from find_peak_slope import *\n",
    "from find_peak_value import *\n",
    "from simulate import *\n",
    "from zacLib import diff,difff,awgn,mySmooth,IIRsmooth\n",
    "import numba\n",
    "%matplotlib Qt5"
   ]
  },
  {
   "cell_type": "code",
   "execution_count": 2,
   "metadata": {},
   "outputs": [],
   "source": [
    "file = 'siga.rd'\n",
    "sig,fs = rd_reader(file,1,0)\n",
    "sp = fft(sig,nextpow2(sig.size,0))\n",
    "sm = IIRsmooth(sp,5,0.01)\n",
    "sm.tofile('test.dat')\n",
    "# sm = mySmooth(sp,149,2)\n",
    "# sig,sp = stairs()\n",
    "# sm = np.fromfile('test.dat')"
   ]
  },
  {
   "cell_type": "code",
   "execution_count": 160,
   "metadata": {
    "tags": []
   },
   "outputs": [],
   "source": [
    "@numba.njit()\n",
    "def get_local_maximum(x):\n",
    "    return np.array([i for i in range(1,x.size-1) if x[i]>x[i+1] and x[i]>x[i-1]])\n",
    "\n",
    "@numba.njit()\n",
    "def get_local_extremum(x):\n",
    "    ploc,vloc = [0 for i in range(0)],[0 for i in range(0)]\n",
    "    for i in range(1,x.size-1):\n",
    "        c1 = x[i]>x[i+1]\n",
    "        c2 = x[i]>x[i-1]\n",
    "        if c1 and c2: \n",
    "            ploc.append(i)\n",
    "        if not c1 and not c2: \n",
    "            vloc.append(i)\n",
    "\n",
    "\n",
    "@numba.njit()\n",
    "def findBandInRange(x,peakThreshold,start,end,minBandPts=3):    \n",
    "    mxi = start + x[start:end].argmax()\n",
    "    i = mxi - 1\n",
    "    th = x[mxi]-peakThreshold\n",
    "    while i>=start and x[i] >= th:\n",
    "        i -= 1\n",
    "    j = mxi + 1\n",
    "    while j<end and x[j]>=th:\n",
    "        j += 1\n",
    "    pl,vl = [0 for _ in range(0)],[0 for _ in range(0)]\n",
    "    ipl,ivl = [0 for _ in range(0)],[0 for _ in range(0)]\n",
    "    jpl,jvl = [0 for _ in range(0)],[0 for _ in range(0)]\n",
    "    if i<start and j==end:\n",
    "        return pl,vl  \n",
    "    if i>=start+minBandPts:\n",
    "        ipl,ivl = findBandInRange(x,peakThreshold,start,i,minBandPts)\n",
    "    if i>=start and j<end:\n",
    "        pl,vl = [i],[j]\n",
    "    if j<end-minBandPts:\n",
    "        jpl,jvl = findBandInRange(x,peakThreshold,j,end,minBandPts)   \n",
    "    return ipl+pl+jpl, ivl+vl+jvl\n",
    "\n",
    "@numba.njit()\n",
    "def findBandInRange2(x,loc,peakThreshold,start,end):  \n",
    "    idx = start+x[loc[start:end]].argmax()\n",
    "    mxi = loc[idx]\n",
    "    th = x[mxi]-peakThreshold\n",
    "\n",
    "    i,j = mxi-1,mxi+1\n",
    "    startx = loc[start-1] if start>0 else 0\n",
    "    endx = loc[end+1] if end<loc.size-1 else x.size\n",
    "    while i>=startx and x[i]>=th:\n",
    "        i -= 1        \n",
    "    while j<endx and x[j]>=th:\n",
    "        j += 1\n",
    "\n",
    "    pl,vl = [0 for _ in range(0)],[0 for _ in range(0)]\n",
    "    if i<startx and j==endx:\n",
    "        return pl,vl  \n",
    "\n",
    "    id = idx-1\n",
    "    while id>=start and loc[id]>i:\n",
    "        id -= 1   \n",
    "    jd = idx+1\n",
    "    while jd<end and loc[jd]<j:\n",
    "        jd += 1\n",
    "    \n",
    "    ipl,ivl = [0 for _ in range(0)],[0 for _ in range(0)]\n",
    "    jpl,jvl = [0 for _ in range(0)],[0 for _ in range(0)]\n",
    "\n",
    "    if id>=start:\n",
    "        ipl,ivl = findBandInRange2(x,loc,peakThreshold,start,id)\n",
    "    if i>=startx and j<endx:\n",
    "        pl,vl = [i],[j]\n",
    "    if jd<end:\n",
    "        jpl,jvl = findBandInRange2(x,loc,peakThreshold,jd,end) \n",
    "\n",
    "    return ipl+pl+jpl, ivl+vl+jvl\n",
    "\n",
    "@numba.njit()\n",
    "def foo(x,th):\n",
    "    loc = get_local_maximum(x)\n",
    "    ploc1,vloc1 = findBandInRange2(x,loc,th,0,loc.size)\n",
    "    return ploc1,vloc1\n",
    "\n",
    "@numba.njit()\n",
    "def bar(x,th):\n",
    "    loc = get_local_maximum(x)\n",
    "    sloc = loc[np.argsort(x[loc])]"
   ]
  },
  {
   "cell_type": "code",
   "execution_count": 161,
   "metadata": {
    "tags": []
   },
   "outputs": [
    {
     "output_type": "stream",
     "name": "stdout",
     "text": "728 µs ± 1.41 µs per loop (mean ± std. dev. of 7 runs, 1000 loops each)\n66.4 µs ± 125 ns per loop (mean ± std. dev. of 7 runs, 10000 loops each)\n"
    }
   ],
   "source": [
    "x = sm.copy()\n",
    "bar(x,0.5)\n",
    "foo(x,0.5)\n",
    "loc = get_local_maximum(x)\n",
    "sloc = loc[np.argsort(x[loc])]\n",
    "%timeit loc = get_local_maximum(x)\n",
    "%timeit sloc = loc[np.argsort(x[loc])]\n",
    "# %timeit bar(x,0.5)\n",
    "# %timeit foo(x,0.5)"
   ]
  },
  {
   "cell_type": "code",
   "execution_count": 162,
   "metadata": {
    "tags": []
   },
   "outputs": [
    {
     "output_type": "stream",
     "name": "stdout",
     "text": "3.56 ms ± 32.2 µs per loop (mean ± std. dev. of 7 runs, 100 loops each)\n1.23 ms ± 48.6 µs per loop (mean ± std. dev. of 7 runs, 1000 loops each)\n"
    }
   ],
   "source": [
    "x = sm.copy()\n",
    "th = 0.5\n",
    "ploc,vloc = findBandInRange(x,th,0,x.size)\n",
    "ploc1,vloc1 = foo(x,th)\n",
    "%timeit findBandInRange(x,th,0,x.size)\n",
    "%timeit foo(x,th)"
   ]
  },
  {
   "cell_type": "code",
   "execution_count": null,
   "metadata": {
    "tags": []
   },
   "outputs": [],
   "source": [
    "# plt.figure()\n",
    "# plt.plot(x)\n",
    "# plt.plot(ploc,x[ploc],'rs')\n",
    "# plt.plot(vloc,x[vloc],'rs')\n",
    "# plt.plot(ploc1,x[ploc1],'g^')\n",
    "# plt.plot(vloc1,x[vloc1],'gv')"
   ]
  },
  {
   "cell_type": "code",
   "execution_count": null,
   "metadata": {
    "tags": []
   },
   "outputs": [],
   "source": [
    "# foo(x,0.5)\n",
    "# findBandInRange(x,0.5,0,x.size)\n",
    "# %timeit findBandInRange(x,0.5,0,x.size)\n",
    "# %timeit foo(x,0.5)"
   ]
  },
  {
   "cell_type": "code",
   "execution_count": 4,
   "metadata": {},
   "outputs": [],
   "source": [
    "# x = np.zeros(1000)\n",
    "# x[0:100] = bell(100,1)\n",
    "# x[100:200] = bell(100,1)\n",
    "# x[300:400] = bell(100,3)\n",
    "x = sm.copy()\n",
    "\n",
    "# plt.plot(x)"
   ]
  },
  {
   "cell_type": "code",
   "execution_count": 7,
   "metadata": {
    "tags": []
   },
   "outputs": [
    {
     "output_type": "stream",
     "name": "stdout",
     "text": "876 µs ± 23.7 µs per loop (mean ± std. dev. of 7 runs, 1000 loops each)\n"
    }
   ],
   "source": [
    "th = 0.1\n",
    "@numba.njit()\n",
    "def findBandInRange3(x,th):\n",
    "    idmax,idmin = 0,0\n",
    "    xmax,xmin = x[idmax],x[idmin]\n",
    "    ploc,vloc = [],[]\n",
    "    rising = -1\n",
    "    for i in range(0,x.size):\n",
    "        d = x[i] \n",
    "        if d > xmax:\n",
    "            idmax = i        \n",
    "            xmax = x[idmax]\n",
    "            while d-x[idmin]>th:\n",
    "                idmin+=1\n",
    "            xmin = x[idmin]\n",
    "            rising = idmin\n",
    "        if d < xmin:\n",
    "            idmin = i\n",
    "            xmin = x[idmin]\n",
    "            while x[idmax]-d>th:\n",
    "                idmax+=1   \n",
    "            xmax = x[idmax]\n",
    "            if rising>=0:\n",
    "                t = idmax-1\n",
    "                while t>rising and xmax-x[t]<th:\n",
    "                    t-=1\n",
    "                ploc.append(t)\n",
    "                vloc.append(i)\n",
    "                rising = -1\n",
    "    return ploc,vloc\n",
    "ploc,vloc = findBandInRange3(x,th)\n",
    "%timeit findBandInRange3(x,0.1)"
   ]
  },
  {
   "cell_type": "code",
   "execution_count": 177,
   "metadata": {},
   "outputs": [
    {
     "output_type": "execute_result",
     "data": {
      "text/plain": "[<matplotlib.lines.Line2D at 0x871bf6c8>]"
     },
     "metadata": {},
     "execution_count": 177
    }
   ],
   "source": [
    "oploc,ovloc = findBandInRange(x,th,0,x.size)\n",
    "plt.plot(x)\n",
    "plt.plot(oploc,x[oploc],'rs')\n",
    "plt.plot(ovloc,x[ovloc],'rd')\n",
    "plt.plot(ploc,x[ploc],'g^')\n",
    "plt.plot(vloc,x[vloc],'gv')"
   ]
  },
  {
   "cell_type": "code",
   "execution_count": 167,
   "metadata": {
    "tags": []
   },
   "outputs": [
    {
     "output_type": "stream",
     "name": "stdout",
     "text": "826 µs ± 9.89 µs per loop (mean ± std. dev. of 7 runs, 1000 loops each)\n15 ms ± 15 µs per loop (mean ± std. dev. of 7 runs, 100 loops each)\n"
    }
   ],
   "source": [
    "%timeit findBandInRange3(x,0.1)\n",
    "%timeit findBandInRange(x,0.1,0,x.size)"
   ]
  },
  {
   "cell_type": "code",
   "execution_count": null,
   "metadata": {},
   "outputs": [],
   "source": [
    "# plt.figure()\n",
    "# plt.plot(sp,'.',markersize=0.4)\n",
    "# plt.plot(sm)\n",
    "# plt.plot(ploc,sm[ploc],'r^')\n",
    "# plt.plot(vloc,sm[vloc],'gv')\n",
    "# plt.show()"
   ]
  },
  {
   "cell_type": "code",
   "execution_count": null,
   "metadata": {
    "tags": []
   },
   "outputs": [],
   "source": [
    "# def demo(x,sp,width,slope_th):\n",
    "    # (sm,dsp,new_peak,new_pits,avg_frq,max_frq,\n",
    "    #  dev_band,half_left,half_right,half_band) = find_peak_slope(sp,width,slope_th)\n",
    "     \n",
    "    # plot_all(sp,sm,dsp,slope_th,new_peak,new_pits,avg_frq,\n",
    "    #          max_frq,dev_band,half_left,half_right,1,origin=x)"
   ]
  },
  {
   "cell_type": "code",
   "execution_count": null,
   "metadata": {},
   "outputs": [],
   "source": [
    "# real data\n",
    "\n",
    "# find_peak_slope_from_rd('sig0.rd',150,20,1,0)\n",
    "# find_peak_slope_from_rd('sig1.rd',300,30,1,0)\n",
    "# find_peak_slope_from_rd('sig2.rd',40,10,1,0)\n",
    "# find_peak_slope_from_rd('sig3.rd',300,30,1,0)\n",
    "# find_peak_slope_from_rd('siga.rd',300,30,1,0)"
   ]
  },
  {
   "cell_type": "code",
   "execution_count": null,
   "metadata": {},
   "outputs": [],
   "source": [
    "# simulate data\n",
    "\n",
    "# bell shape\n",
    "# x,sp = bells(noise=0.3)\n",
    "# demo(x,sp,200,20)\n",
    "\n",
    "# square\n",
    "# x,sp = squares(0.5)\n",
    "# demo(x,sp,100,20)\n",
    "\n",
    "#stair\n",
    "# x,sp = stairs(0.5)\n",
    "# demo(x,sp,200,30)\n",
    "\n",
    "# random combination\n",
    "# x,sp = random(noise=0.7)\n",
    "# demo(x,sp,100,20)"
   ]
  }
 ]
}