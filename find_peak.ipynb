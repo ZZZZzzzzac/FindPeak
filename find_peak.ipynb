{
 "metadata": {
  "language_info": {
   "codemirror_mode": {
    "name": "ipython",
    "version": 3
   },
   "file_extension": ".py",
   "mimetype": "text/x-python",
   "name": "python",
   "nbconvert_exporter": "python",
   "pygments_lexer": "ipython3",
   "version": "3.7.6-final"
  },
  "orig_nbformat": 2,
  "kernelspec": {
   "name": "python_defaultSpec_1597713882975",
   "display_name": "Python 3.7.6 64-bit ('mkl': conda)"
  }
 },
 "nbformat": 4,
 "nbformat_minor": 2,
 "cells": [
  {
   "cell_type": "code",
   "execution_count": 1,
   "metadata": {},
   "outputs": [],
   "source": [
    "import numpy as np\n",
    "import matplotlib.pyplot as plt \n",
    "from find_peak_slope import *\n",
    "from simulate import *\n",
    "from zacLib import awgn,mySmooth,IIRsmooth\n",
    "import numba\n",
    "%matplotlib Qt5"
   ]
  },
  {
   "cell_type": "code",
   "execution_count": 2,
   "metadata": {},
   "outputs": [],
   "source": [
    "file = 'siga.rd'\n",
    "sig,fs = rd_reader(file,1,0)\n",
    "sp = fft(sig,nextpow2(sig.size,0))\n",
    "sm = IIRsmooth(sp,5,0.02)\n",
    "sm.tofile('test.dat')\n",
    "# sm = mySmooth(sp,149,2)\n",
    "# sig,sp = stairs()\n",
    "# sm = np.fromfile('test.dat')"
   ]
  },
  {
   "cell_type": "code",
   "execution_count": 10,
   "metadata": {
    "tags": []
   },
   "outputs": [
    {
     "output_type": "stream",
     "name": "stdout",
     "text": "3.74 ms ± 148 µs per loop (mean ± std. dev. of 7 runs, 100 loops each)\n"
    }
   ],
   "source": [
    "@numba.njit()\n",
    "def findBandInRange(x,peakThreshold,si,se,minBandPts=3):    \n",
    "    s = x[si:se]\n",
    "    mxi = s.argmax()\n",
    "    i = mxi - 1\n",
    "    th = s[mxi]-peakThreshold\n",
    "    while i>=0 and s[i] >= th:\n",
    "        i -= 1\n",
    "    j = mxi + 1\n",
    "    while j<s.size and s[j]>=th:\n",
    "        j += 1\n",
    "    peak = [0 for x in range(0)]\n",
    "    if i<0 and j==s.size:\n",
    "        return peak\n",
    "    ipeak = [0 for x in range(0)]\n",
    "    if i>=minBandPts:\n",
    "        ipeak = findBandInRange(x,peakThreshold,si,si+i,minBandPts)\n",
    "    if i>=0 and j<s.size:\n",
    "        peak = [si+i,si+j]\n",
    "    jpeak = [0 for x in range(0)]\n",
    "    if j<s.size-minBandPts:\n",
    "        jpeak = findBandInRange(x,peakThreshold,si+j,se,minBandPts)    \n",
    "    ipeak += peak\n",
    "    ipeak += jpeak\n",
    "    return ipeak\n",
    "\n",
    "def foo(sp):\n",
    "    peaks = findBandInRange(sm,0.5,0,sm.size)\n",
    "    ploc = peaks[::2]\n",
    "    vloc = peaks[1::2]\n",
    "    return ploc,vloc\n",
    "ploc,vloc = foo(sp)\n",
    "%timeit findBandInRange(sm,0.5,0,sm.size)"
   ]
  },
  {
   "cell_type": "code",
   "execution_count": 4,
   "metadata": {},
   "outputs": [],
   "source": [
    "plt.figure()\n",
    "plt.plot(sp,'.',markersize=0.4)\n",
    "plt.plot(sm)\n",
    "plt.plot(ploc,sm[ploc],'r^')\n",
    "plt.plot(vloc,sm[vloc],'gv')\n",
    "plt.show()"
   ]
  },
  {
   "cell_type": "code",
   "execution_count": 12,
   "metadata": {},
   "outputs": [
    {
     "output_type": "execute_result",
     "data": {
      "text/plain": "24"
     },
     "metadata": {},
     "execution_count": 12
    }
   ],
   "source": [
    "len(ploc)"
   ]
  },
  {
   "cell_type": "code",
   "execution_count": 5,
   "metadata": {
    "tags": []
   },
   "outputs": [],
   "source": [
    "# @numba.njit()\n",
    "# def bar():\n",
    "#     stack = [[0,sm.size]]\n",
    "#     ploc,vloc = [],[]\n",
    "#     peakThreshold = 0.5\n",
    "#     while stack: \n",
    "#         start,end = stack.pop()\n",
    "#         idx = start + sm[start:end].argmax()\n",
    "#         i,j = idx-1,idx+1\n",
    "#         th = sm[idx] - peakThreshold\n",
    "#         while i>=start and sm[i]>=th:\n",
    "#             i-=1\n",
    "#         while j<end and sm[j]>=th:\n",
    "#             j+=1\n",
    "#         if i>=start and j<end:\n",
    "#             ploc.append(i)\n",
    "#             vloc.append(j)\n",
    "#         if i>=start+3:\n",
    "#             stack.append([start,i])\n",
    "#         if j<end-3:\n",
    "#             stack.append([j,end])\n",
    "#     ploc.sort()\n",
    "#     vloc.sort()\n",
    "#     return ploc,vloc\n",
    "# ploc1,vloc1 = bar()\n",
    "# %timeit bar()"
   ]
  },
  {
   "cell_type": "code",
   "execution_count": 6,
   "metadata": {
    "tags": []
   },
   "outputs": [],
   "source": [
    "# def demo(x,sp,width,slope_th):\n",
    "    # (sm,dsp,new_peak,new_pits,avg_frq,max_frq,\n",
    "    #  dev_band,half_left,half_right,half_band) = find_peak_slope(sp,width,slope_th)\n",
    "     \n",
    "    # plot_all(sp,sm,dsp,slope_th,new_peak,new_pits,avg_frq,\n",
    "    #          max_frq,dev_band,half_left,half_right,1,origin=x)"
   ]
  },
  {
   "cell_type": "code",
   "execution_count": 7,
   "metadata": {},
   "outputs": [],
   "source": [
    "# @numba.njit()\n",
    "# def cost(u,f,alpha=1):\n",
    "#     aRu = alpha*np.abs(u[2:]-u[:-2]).sum()\n",
    "#     DF_Au_f = (np.abs(u.cumsum()-f)**2).sum()*0.5\n",
    "#     return aRu + DF_Au_f\n",
    "\n",
    "# @numba.njit()\n",
    "# def gradient(u,f,alpha):    \n",
    "#     # d(|u'|)/du\n",
    "#     sdu = np.sign(u[2:]-u[:-2])\n",
    "#     aRu = np.zeros_like(u)\n",
    "#     aRu[2:-2] = sdu[:-2]-sdu[2:]\n",
    "#     aRu[:2] = -sdu[:2]\n",
    "#     aRu[-2:] = sdu[-2:]\n",
    "#     # d(0.5*|Au-f|^2)/du, i.e. At(Au-f)\n",
    "#     Au_f = u.cumsum() - f\n",
    "#     At_Au_f = Au_f.cumsum()\n",
    "#     sumAu_f = At_Au_f[-1]\n",
    "#     At_Au_f[1:] = At_Au_f[-1]-At_Au_f[:-1]\n",
    "#     At_Au_f[0] = sumAu_f\n",
    "#     return alpha*aRu + At_Au_f\n",
    "\n",
    "# f = sp\n",
    "# n = sp.size\n",
    "# alpha = 1\n",
    "# eta = 4/n**2\n",
    "# for i in range(50):\n",
    "#     costs.append(cost(u,f,alpha))\n",
    "#     grad = gradient(u,f,alpha)\n",
    "#     u = u - eta * grad"
   ]
  },
  {
   "cell_type": "code",
   "execution_count": 8,
   "metadata": {},
   "outputs": [],
   "source": [
    "# real data\n",
    "\n",
    "# find_peak_slope_from_rd('sig0.rd',150,20,1,0)\n",
    "# find_peak_slope_from_rd('sig1.rd',300,30,1,0)\n",
    "# find_peak_slope_from_rd('sig2.rd',40,10,1,0)\n",
    "# find_peak_slope_from_rd('sig3.rd',300,30,1,0)\n",
    "# find_peak_slope_from_rd('siga.rd',300,30,1,0)"
   ]
  },
  {
   "cell_type": "code",
   "execution_count": 9,
   "metadata": {},
   "outputs": [],
   "source": [
    "# simulate data\n",
    "\n",
    "# bell shape\n",
    "# x,sp = bells(noise=0.3)\n",
    "# demo(x,sp,200,20)\n",
    "\n",
    "# square\n",
    "# x,sp = squares(0.5)\n",
    "# demo(x,sp,100,20)\n",
    "\n",
    "#stair\n",
    "# x,sp = stairs(0.5)\n",
    "# demo(x,sp,200,30)\n",
    "\n",
    "# random combination\n",
    "# x,sp = random(noise=0.7)\n",
    "# demo(x,sp,100,20)"
   ]
  }
 ]
}