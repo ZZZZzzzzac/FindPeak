{
 "metadata": {
  "language_info": {
   "codemirror_mode": {
    "name": "ipython",
    "version": 3
   },
   "file_extension": ".py",
   "mimetype": "text/x-python",
   "name": "python",
   "nbconvert_exporter": "python",
   "pygments_lexer": "ipython3",
   "version": 3
  },
  "orig_nbformat": 2,
  "kernelspec": {
   "name": "python_defaultSpec_1597110265339",
   "display_name": "Python 3.7.6 64-bit ('mkl': conda)"
  }
 },
 "nbformat": 4,
 "nbformat_minor": 2,
 "cells": [
  {
   "cell_type": "code",
   "execution_count": 123,
   "metadata": {},
   "outputs": [],
   "source": [
    "import numpy as np\n",
    "import matplotlib.pyplot as plt \n",
    "from find_peak_slope import *\n",
    "from zacLib import awgn\n",
    "%matplotlib Qt5"
   ]
  },
  {
   "cell_type": "code",
   "execution_count": 124,
   "metadata": {
    "tags": []
   },
   "outputs": [],
   "source": [
    "# find_peak_slope_from_rd('sig0.rd',400,50,1,0)"
   ]
  },
  {
   "cell_type": "code",
   "execution_count": 125,
   "metadata": {
    "tags": []
   },
   "outputs": [],
   "source": [
    "def bell(n,h,sigma=1):\n",
    "    return h*np.exp(-np.arange(-n//2,n//2)**2/2/sigma**2)\n",
    "\n",
    "def square(n,h,alpha=0,ripple=0):\n",
    "    if alpha>n//2: alpha = n//2\n",
    "    s = np.zeros(n)\n",
    "    s[0:alpha] = np.cos(np.linspace(np.pi,np.pi*2,alpha))+1\n",
    "    s[n-alpha:n] = np.cos(np.linspace(0,np.pi,alpha))+1\n",
    "    s[alpha:n-alpha] = 2+ripple*np.sin(np.linspace(0,12*np.pi,n-2*alpha))\n",
    "    return 0.5*h*s\n",
    "\n",
    "def stair(n,h1,h2,alpha=0,sigma=1,ripple=0):\n",
    "    return bell(n,h1,sigma)+square(n,h2,alpha,ripple)\n"
   ]
  },
  {
   "cell_type": "code",
   "execution_count": 126,
   "metadata": {},
   "outputs": [],
   "source": [
    "n=int(8000)\n",
    "x = np.zeros(n)\n",
    "x[100:1000] += square(900,1,alpha=0,ripple=0)\n",
    "x[1100:2000] += square(900,1,alpha=100,ripple=0)\n",
    "x[2100:3000] += square(900,1,alpha=300,ripple=0)\n",
    "x[3100:4000] += square(900,1,alpha=450,ripple=0)\n",
    "x[4100:5000] += square(900,0.5,alpha=0,ripple=0)\n",
    "x[5100:6000] += square(900,0.5,alpha=100,ripple=0)\n",
    "x[6100:7000] += square(900,0.5,alpha=300,ripple=0)\n",
    "x[7100:8000] += square(900,0.5,alpha=450,ripple=0)\n",
    "\n",
    "# stairs\n",
    "# x[100:1000] = stair(900,1,0.1,alpha=100,sigma=30,ripple=0)\n",
    "# x[1100:2000] = stair(900,0.4,1,alpha=200,sigma=10,ripple=0)\n",
    "# x[2100:3000] = stair(900,1,1,alpha=30,sigma=50,ripple=0)\n",
    "# x[3100:4000] = stair(900,1,1,alpha=300,sigma=30,ripple=0)\n",
    "nx = awgn(x,None,0.05)\n",
    "# plt.figure()\n",
    "# plt.plot(nx,'.',markersize=1)\n",
    "# plt.plot(x)\n",
    "\n",
    "# plt.show()\n"
   ]
  },
  {
   "cell_type": "code",
   "execution_count": 127,
   "metadata": {},
   "outputs": [],
   "source": [
    "width = 150\n",
    "slope_th = 20\n",
    "\n",
    "sp = nx\n",
    "sp = np.concatenate([np.zeros(width),sp,np.zeros(width)])\n",
    "sm = mySmooth(sp,width,n=1) # n control shape of smooth kernel (lager n, kernel is more like gaussian(bell) shape)\n",
    "dsp = dev(sp,width) # calculate derivative/slope\n",
    "# ploc = np.where(dsp>slope_th)[0] # slope > slope_th ==> rising edge \n",
    "# vloc = np.where(dsp<-slope_th)[0] # slope < -slope_th ==> falling edge\n",
    "# new_peak,new_pits = filter_extremum(dsp,ploc,vloc)\n",
    "# sm,dsp,new_peak,new_pits,avg_frq,max_frq,\\\n",
    "#         dev_band,half_left,half_right,half_band = find_peak_slope(nx,width,slope_th)\n",
    "# plot_all(nx,sm,dsp,slope_th,new_peak,new_pits,avg_frq,max_frq,dev_band,half_left,half_right,1)"
   ]
  },
  {
   "cell_type": "code",
   "execution_count": 128,
   "metadata": {},
   "outputs": [],
   "source": [
    "ploc=[]\n",
    "vloc=[]\n",
    "maxPeak = 0\n",
    "minPeak = 0\n",
    "current = 'neither' # state machine: \n",
    "for i,d in enumerate(dsp):\n",
    "    if d>slope_th:\n",
    "        current = 'rising'\n",
    "        if d>maxPeak:\n",
    "            maxPeak = d\n",
    "            pl = i\n",
    "    elif d<-slope_th:\n",
    "        current = 'falling'\n",
    "        if d<minPeak:\n",
    "            minPeak = d\n",
    "            vl = i\n",
    "    else:\n",
    "        if current == 'rising':\n",
    "            if len(ploc)-len(vloc)==1:\n",
    "                ploc[-1] = pl\n",
    "            else:\n",
    "                ploc.append(pl)\n",
    "            maxPeak = 0\n",
    "        elif current == 'falling':\n",
    "            if len(ploc)-len(vloc)==1:\n",
    "                vloc.append(vl)\n",
    "            minPeak = 0\n",
    "        current = 'neither'\n",
    "new_peak=np.array(ploc)\n",
    "new_pits=np.array(vloc)"
   ]
  },
  {
   "cell_type": "code",
   "execution_count": 129,
   "metadata": {},
   "outputs": [],
   "source": [
    "plt.figure()\n",
    "f=1\n",
    "f_axis = np.arange(sm.size)*f\n",
    "ax1 = plt.subplot(211)\n",
    "plt.plot(np.concatenate([np.zeros(width),x,np.zeros(width)]),label='Origin')\n",
    "plt.plot(sp,'.',markersize=1,label='Raw') # if sp.size>1e6, plot sp as scatter will be very slow\n",
    "plt.plot(f_axis,sm,label='Smoothed')\n",
    "plt.plot(new_peak*f,sm[new_peak],'r^',label='rising')\n",
    "plt.plot(new_pits*f,sm[new_pits],'gv',label='falling')\n",
    "# plt.plot(half_left*f,sm[half_left],'b>',label='half_left')\n",
    "# plt.plot(half_right*f,sm[half_right],'b<',label='half_right')\n",
    "# plt.plot(avg_frq*f,sm[avg_frq],'d',label='avg_peak')\n",
    "# plt.plot(max_frq*f,sm[max_frq],'s',label='max_peak')\n",
    "plt.legend(loc='right')\n",
    "plt.subplot(212,sharex=ax1)\n",
    "plt.plot(f_axis,dsp)\n",
    "plt.plot(f_axis,np.ones(sm.size)*slope_th,'--')\n",
    "plt.plot(f_axis,np.ones(sm.size)*-slope_th,'--')\n",
    "plt.plot(new_peak*f,dsp[new_peak],'r^',markersize=4)\n",
    "plt.plot(new_pits*f,dsp[new_pits],'gv',markersize=4)\n",
    "plt.show()"
   ]
  },
  {
   "cell_type": "code",
   "execution_count": 130,
   "metadata": {},
   "outputs": [
    {
     "output_type": "execute_result",
     "data": {
      "text/plain": "array([1149, 2098, 3004, 3919, 5149, 6101, 6993, 7898])"
     },
     "metadata": {},
     "execution_count": 130
    }
   ],
   "source": [
    "new_pits"
   ]
  },
  {
   "cell_type": "code",
   "execution_count": null,
   "metadata": {},
   "outputs": [],
   "source": []
  }
 ]
}