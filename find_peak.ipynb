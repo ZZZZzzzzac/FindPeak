{
 "metadata": {
  "language_info": {
   "codemirror_mode": {
    "name": "ipython",
    "version": 3
   },
   "file_extension": ".py",
   "mimetype": "text/x-python",
   "name": "python",
   "nbconvert_exporter": "python",
   "pygments_lexer": "ipython3",
   "version": 3
  },
  "orig_nbformat": 2,
  "kernelspec": {
   "name": "python_defaultSpec_1597287184806",
   "display_name": "Python 3.7.6 64-bit ('mkl': conda)"
  }
 },
 "nbformat": 4,
 "nbformat_minor": 2,
 "cells": [
  {
   "cell_type": "code",
   "execution_count": 1,
   "metadata": {},
   "outputs": [],
   "source": [
    "import numpy as np\n",
    "import matplotlib.pyplot as plt \n",
    "from find_peak_slope import *\n",
    "from simulate import *\n",
    "from zacLib import awgn\n",
    "%matplotlib Qt5"
   ]
  },
  {
   "cell_type": "code",
   "execution_count": 2,
   "metadata": {
    "tags": []
   },
   "outputs": [],
   "source": [
    "def demo(x,sp,width,slope_th):\n",
    "    (sm,dsp,new_peak,new_pits,avg_frq,max_frq,\n",
    "     dev_band,half_left,half_right,half_band) = find_peak_slope(sp,width,slope_th)\n",
    "     \n",
    "    plot_all(sp,sm,dsp,slope_th,new_peak,new_pits,avg_frq,\n",
    "             max_frq,dev_band,half_left,half_right,1,origin=x)"
   ]
  },
  {
   "cell_type": "code",
   "execution_count": 10,
   "metadata": {},
   "outputs": [
    {
     "output_type": "execute_result",
     "data": {
      "text/plain": "    avg_frq  max_frq  slope band  half_band\n0      7874     8041        1072       1024\n1      9200     9471        1026       1002\n2     11131    11169         395        391\n3     11700    11813         388        403\n4     12122    12129         155        143\n5     12544    12545         162        152\n6     13242    13383         563        535\n7     14225    14187         542        532\n8     14937    14937         156        134\n9     15347    15352         150        122\n10    16467    16781        1134       1166\n11    17674    17730         306        290\n12    18230    18226         274        274\n13    18790    18764         294        297\n14    19360    19419         299        278\n15    21745    21612        2346       2215\n16    24791    24505        2548       2315\n17    28837    28697         549        554\n18    29830    29756         573        559\n19    31166    31537        1443       1432\n20    32414    32469         269        265\n21    32972    32977         147        110\n22    33264    33264         150        111\n23    33607    33614         155        144\n24    34033    34034         161        154\n25    34523    34600         393        410\n26    35095    35005         382        386\n27    37950    37817         888        863\n28    39215    39522         901        848\n29    39928    39931         152        142\n30    40220    40210         112         89\n31    40517    40497         127         93\n32    40909    40911         153        142\n33    42867    43515        2085       2021\n34    45715    46090        2081       1983\n35    49907    49528        1586       1560",
      "text/html": "<div>\n<style scoped>\n    .dataframe tbody tr th:only-of-type {\n        vertical-align: middle;\n    }\n\n    .dataframe tbody tr th {\n        vertical-align: top;\n    }\n\n    .dataframe thead th {\n        text-align: right;\n    }\n</style>\n<table border=\"1\" class=\"dataframe\">\n  <thead>\n    <tr style=\"text-align: right;\">\n      <th></th>\n      <th>avg_frq</th>\n      <th>max_frq</th>\n      <th>slope band</th>\n      <th>half_band</th>\n    </tr>\n  </thead>\n  <tbody>\n    <tr>\n      <th>0</th>\n      <td>7874</td>\n      <td>8041</td>\n      <td>1072</td>\n      <td>1024</td>\n    </tr>\n    <tr>\n      <th>1</th>\n      <td>9200</td>\n      <td>9471</td>\n      <td>1026</td>\n      <td>1002</td>\n    </tr>\n    <tr>\n      <th>2</th>\n      <td>11131</td>\n      <td>11169</td>\n      <td>395</td>\n      <td>391</td>\n    </tr>\n    <tr>\n      <th>3</th>\n      <td>11700</td>\n      <td>11813</td>\n      <td>388</td>\n      <td>403</td>\n    </tr>\n    <tr>\n      <th>4</th>\n      <td>12122</td>\n      <td>12129</td>\n      <td>155</td>\n      <td>143</td>\n    </tr>\n    <tr>\n      <th>5</th>\n      <td>12544</td>\n      <td>12545</td>\n      <td>162</td>\n      <td>152</td>\n    </tr>\n    <tr>\n      <th>6</th>\n      <td>13242</td>\n      <td>13383</td>\n      <td>563</td>\n      <td>535</td>\n    </tr>\n    <tr>\n      <th>7</th>\n      <td>14225</td>\n      <td>14187</td>\n      <td>542</td>\n      <td>532</td>\n    </tr>\n    <tr>\n      <th>8</th>\n      <td>14937</td>\n      <td>14937</td>\n      <td>156</td>\n      <td>134</td>\n    </tr>\n    <tr>\n      <th>9</th>\n      <td>15347</td>\n      <td>15352</td>\n      <td>150</td>\n      <td>122</td>\n    </tr>\n    <tr>\n      <th>10</th>\n      <td>16467</td>\n      <td>16781</td>\n      <td>1134</td>\n      <td>1166</td>\n    </tr>\n    <tr>\n      <th>11</th>\n      <td>17674</td>\n      <td>17730</td>\n      <td>306</td>\n      <td>290</td>\n    </tr>\n    <tr>\n      <th>12</th>\n      <td>18230</td>\n      <td>18226</td>\n      <td>274</td>\n      <td>274</td>\n    </tr>\n    <tr>\n      <th>13</th>\n      <td>18790</td>\n      <td>18764</td>\n      <td>294</td>\n      <td>297</td>\n    </tr>\n    <tr>\n      <th>14</th>\n      <td>19360</td>\n      <td>19419</td>\n      <td>299</td>\n      <td>278</td>\n    </tr>\n    <tr>\n      <th>15</th>\n      <td>21745</td>\n      <td>21612</td>\n      <td>2346</td>\n      <td>2215</td>\n    </tr>\n    <tr>\n      <th>16</th>\n      <td>24791</td>\n      <td>24505</td>\n      <td>2548</td>\n      <td>2315</td>\n    </tr>\n    <tr>\n      <th>17</th>\n      <td>28837</td>\n      <td>28697</td>\n      <td>549</td>\n      <td>554</td>\n    </tr>\n    <tr>\n      <th>18</th>\n      <td>29830</td>\n      <td>29756</td>\n      <td>573</td>\n      <td>559</td>\n    </tr>\n    <tr>\n      <th>19</th>\n      <td>31166</td>\n      <td>31537</td>\n      <td>1443</td>\n      <td>1432</td>\n    </tr>\n    <tr>\n      <th>20</th>\n      <td>32414</td>\n      <td>32469</td>\n      <td>269</td>\n      <td>265</td>\n    </tr>\n    <tr>\n      <th>21</th>\n      <td>32972</td>\n      <td>32977</td>\n      <td>147</td>\n      <td>110</td>\n    </tr>\n    <tr>\n      <th>22</th>\n      <td>33264</td>\n      <td>33264</td>\n      <td>150</td>\n      <td>111</td>\n    </tr>\n    <tr>\n      <th>23</th>\n      <td>33607</td>\n      <td>33614</td>\n      <td>155</td>\n      <td>144</td>\n    </tr>\n    <tr>\n      <th>24</th>\n      <td>34033</td>\n      <td>34034</td>\n      <td>161</td>\n      <td>154</td>\n    </tr>\n    <tr>\n      <th>25</th>\n      <td>34523</td>\n      <td>34600</td>\n      <td>393</td>\n      <td>410</td>\n    </tr>\n    <tr>\n      <th>26</th>\n      <td>35095</td>\n      <td>35005</td>\n      <td>382</td>\n      <td>386</td>\n    </tr>\n    <tr>\n      <th>27</th>\n      <td>37950</td>\n      <td>37817</td>\n      <td>888</td>\n      <td>863</td>\n    </tr>\n    <tr>\n      <th>28</th>\n      <td>39215</td>\n      <td>39522</td>\n      <td>901</td>\n      <td>848</td>\n    </tr>\n    <tr>\n      <th>29</th>\n      <td>39928</td>\n      <td>39931</td>\n      <td>152</td>\n      <td>142</td>\n    </tr>\n    <tr>\n      <th>30</th>\n      <td>40220</td>\n      <td>40210</td>\n      <td>112</td>\n      <td>89</td>\n    </tr>\n    <tr>\n      <th>31</th>\n      <td>40517</td>\n      <td>40497</td>\n      <td>127</td>\n      <td>93</td>\n    </tr>\n    <tr>\n      <th>32</th>\n      <td>40909</td>\n      <td>40911</td>\n      <td>153</td>\n      <td>142</td>\n    </tr>\n    <tr>\n      <th>33</th>\n      <td>42867</td>\n      <td>43515</td>\n      <td>2085</td>\n      <td>2021</td>\n    </tr>\n    <tr>\n      <th>34</th>\n      <td>45715</td>\n      <td>46090</td>\n      <td>2081</td>\n      <td>1983</td>\n    </tr>\n    <tr>\n      <th>35</th>\n      <td>49907</td>\n      <td>49528</td>\n      <td>1586</td>\n      <td>1560</td>\n    </tr>\n  </tbody>\n</table>\n</div>"
     },
     "metadata": {},
     "execution_count": 10
    }
   ],
   "source": [
    "# real data\n",
    "\n",
    "find_peak_slope_from_rd('sig0.rd',150,20,1,0)\n",
    "# find_peak_slope_from_rd('sig1.rd',300,30,1,0)\n",
    "# find_peak_slope_from_rd('sig2.rd',40,10,1,0)\n",
    "# find_peak_slope_from_rd('sig3.rd',300,30,1,0)\n",
    "# find_peak_slope_from_rd('siga.rd',300,30,1,0)"
   ]
  },
  {
   "cell_type": "code",
   "execution_count": 4,
   "metadata": {},
   "outputs": [],
   "source": [
    "# simulate data\n",
    "\n",
    "# bell shape\n",
    "# x,sp = bells(noise=0.3)\n",
    "# demo(x,sp,200,20)\n",
    "\n",
    "# square\n",
    "# x,sp = squares(0.5)\n",
    "# demo(x,sp,100,20)\n",
    "\n",
    "#stair\n",
    "# x,sp = stairs(0.5)\n",
    "# demo(x,sp,200,30)\n",
    "\n",
    "# random combination\n",
    "# x,sp = random(noise=0.7)\n",
    "# demo(x,sp,100,20)"
   ]
  }
 ]
}