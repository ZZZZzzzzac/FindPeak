{
 "metadata": {
  "language_info": {
   "codemirror_mode": {
    "name": "ipython",
    "version": 3
   },
   "file_extension": ".py",
   "mimetype": "text/x-python",
   "name": "python",
   "nbconvert_exporter": "python",
   "pygments_lexer": "ipython3",
   "version": "3.7.6-final"
  },
  "orig_nbformat": 2,
  "kernelspec": {
   "name": "python_defaultSpec_1597991514999",
   "display_name": "Python 3.7.6 64-bit ('mkl': conda)"
  }
 },
 "nbformat": 4,
 "nbformat_minor": 2,
 "cells": [
  {
   "cell_type": "code",
   "execution_count": 18,
   "metadata": {},
   "outputs": [],
   "source": [
    "import numpy as np\n",
    "import matplotlib.pyplot as plt \n",
    "from find_peak_slope import *\n",
    "from find_peak_value import *\n",
    "from simulate import *\n",
    "from zacLib import diff,difff,awgn,mySmooth,IIRsmooth\n",
    "import numba\n",
    "%matplotlib Qt5"
   ]
  },
  {
   "cell_type": "code",
   "execution_count": 19,
   "metadata": {},
   "outputs": [],
   "source": [
    "@numba.njit()\n",
    "def findBandInRange3(x,th):\n",
    "    idmax,idmin = 0,0\n",
    "    xmax,xmin = x[idmax],x[idmin]\n",
    "    ploc,vloc = [],[]\n",
    "    rising = -1\n",
    "    # for i in range(0,x.size):\n",
    "    for i,d in enumerate(x):\n",
    "        # d = x[i] \n",
    "        if d > xmax:\n",
    "            idmax = i        \n",
    "            xmax = x[idmax]\n",
    "            while d-x[idmin]>th:\n",
    "                idmin+=1\n",
    "            xmin = x[idmin]\n",
    "            rising = idmin\n",
    "        if d < xmin:\n",
    "            idmin = i\n",
    "            xmin = x[idmin]\n",
    "            while x[idmax]-d>th:\n",
    "                idmax+=1   \n",
    "            xmax = x[idmax]\n",
    "            if rising>=0:\n",
    "                t = idmax-1\n",
    "                while t>rising and xmax-x[t]<th:\n",
    "                    t-=1\n",
    "                ploc.append(t)\n",
    "                vloc.append(i)\n",
    "                rising = -1\n",
    "    return ploc,vloc"
   ]
  },
  {
   "cell_type": "code",
   "execution_count": 20,
   "metadata": {
    "tags": []
   },
   "outputs": [
    {
     "output_type": "stream",
     "name": "stdout",
     "text": "524288\n"
    }
   ],
   "source": [
    "file = 'siga.rd'\n",
    "sig,fs = rd_reader(file,1,0)\n",
    "sp = fft(sig,nextpow2(sig.size,0))\n",
    "sm = IIRsmooth(sp,5,0.01)\n",
    "sm.tofile('test.dat')\n",
    "print(sm.size)\n",
    "# sm = mySmooth(sp,149,2)\n",
    "# sig,sp = stairs()\n",
    "# sm = np.fromfile('test.dat')"
   ]
  },
  {
   "cell_type": "code",
   "execution_count": 21,
   "metadata": {
    "tags": []
   },
   "outputs": [
    {
     "output_type": "stream",
     "name": "stdout",
     "text": "182 185\n"
    }
   ],
   "source": [
    "x = sm.copy()\n",
    "th = 0.1\n",
    "oploc,ovloc = findBandInRange(x,th,0,x.size,0)\n",
    "ploc,vloc = findBandInRange3(x,th)\n",
    "print(len(oploc),len(ploc))"
   ]
  },
  {
   "cell_type": "code",
   "execution_count": 22,
   "metadata": {},
   "outputs": [
    {
     "output_type": "execute_result",
     "data": {
      "text/plain": "[<matplotlib.lines.Line2D at 0xe7a4908>]"
     },
     "metadata": {},
     "execution_count": 22
    }
   ],
   "source": [
    "oploc,ovloc = findBandInRange(x,th,0,x.size)\n",
    "plt.plot(x)\n",
    "plt.plot(oploc,x[oploc],'rs')\n",
    "plt.plot(ovloc,x[ovloc],'rd')\n",
    "plt.plot(ploc,x[ploc],'g^')\n",
    "plt.plot(vloc,x[vloc],'gv')"
   ]
  },
  {
   "cell_type": "code",
   "execution_count": 23,
   "metadata": {
    "tags": []
   },
   "outputs": [
    {
     "output_type": "stream",
     "name": "stdout",
     "text": "853 µs ± 8.7 µs per loop (mean ± std. dev. of 7 runs, 1000 loops each)\n15.1 ms ± 335 µs per loop (mean ± std. dev. of 7 runs, 100 loops each)\n"
    }
   ],
   "source": [
    "%timeit findBandInRange3(x,th)\n",
    "%timeit findBandInRange(x,th,0,x.size,0)"
   ]
  },
  {
   "cell_type": "code",
   "execution_count": 24,
   "metadata": {},
   "outputs": [],
   "source": [
    "# plt.figure()\n",
    "# plt.plot(sp,'.',markersize=0.4)\n",
    "# plt.plot(sm)\n",
    "# plt.plot(ploc,sm[ploc],'r^')\n",
    "# plt.plot(vloc,sm[vloc],'gv')\n",
    "# plt.show()"
   ]
  },
  {
   "cell_type": "code",
   "execution_count": 25,
   "metadata": {
    "tags": []
   },
   "outputs": [],
   "source": [
    "# def demo(x,sp,width,slope_th):\n",
    "    # (sm,dsp,new_peak,new_pits,avg_frq,max_frq,\n",
    "    #  dev_band,half_left,half_right,half_band) = find_peak_slope(sp,width,slope_th)\n",
    "     \n",
    "    # plot_all(sp,sm,dsp,slope_th,new_peak,new_pits,avg_frq,\n",
    "    #          max_frq,dev_band,half_left,half_right,1,origin=x)"
   ]
  },
  {
   "cell_type": "code",
   "execution_count": 26,
   "metadata": {},
   "outputs": [],
   "source": [
    "# real data\n",
    "\n",
    "# find_peak_slope_from_rd('sig0.rd',150,20,1,0)\n",
    "# find_peak_slope_from_rd('sig1.rd',300,30,1,0)\n",
    "# find_peak_slope_from_rd('sig2.rd',40,10,1,0)\n",
    "# find_peak_slope_from_rd('sig3.rd',300,30,1,0)\n",
    "# find_peak_slope_from_rd('siga.rd',300,30,1,0)"
   ]
  },
  {
   "cell_type": "code",
   "execution_count": 27,
   "metadata": {},
   "outputs": [],
   "source": [
    "# simulate data\n",
    "\n",
    "# bell shape\n",
    "# x,sp = bells(noise=0.3)\n",
    "# demo(x,sp,200,20)\n",
    "\n",
    "# square\n",
    "# x,sp = squares(0.5)\n",
    "# demo(x,sp,100,20)\n",
    "\n",
    "#stair\n",
    "# x,sp = stairs(0.5)\n",
    "# demo(x,sp,200,30)\n",
    "\n",
    "# random combination\n",
    "# x,sp = random(noise=0.7)\n",
    "# demo(x,sp,100,20)"
   ]
  }
 ]
}