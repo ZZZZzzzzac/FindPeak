{
 "metadata": {
  "language_info": {
   "codemirror_mode": {
    "name": "ipython",
    "version": 3
   },
   "file_extension": ".py",
   "mimetype": "text/x-python",
   "name": "python",
   "nbconvert_exporter": "python",
   "pygments_lexer": "ipython3",
   "version": 3
  },
  "orig_nbformat": 2,
  "kernelspec": {
   "name": "python_defaultSpec_1597134899957",
   "display_name": "Python 3.7.6 64-bit ('mkl': conda)"
  }
 },
 "nbformat": 4,
 "nbformat_minor": 2,
 "cells": [
  {
   "cell_type": "code",
   "execution_count": 1,
   "metadata": {},
   "outputs": [],
   "source": [
    "import numpy as np\n",
    "import matplotlib.pyplot as plt \n",
    "from find_peak_slope import *\n",
    "from zacLib import awgn\n",
    "%matplotlib Qt5"
   ]
  },
  {
   "cell_type": "code",
   "execution_count": 8,
   "metadata": {
    "tags": []
   },
   "outputs": [
    {
     "output_type": "stream",
     "name": "stdout",
     "text": "[  7463  12473  17576 182559 187291 196280 204599 205408 208712 213293\n 214475 218970 220146 228297 230351 239542 241285 246413 275408 291404\n 300061 300660 303250 306610 307703 308949 311338 315673 316304 321356\n 322097 323163 324478 330354 331217 331985 332425 338528 341810 342974] [  7670  12825  17811 183506 188965 196928 204842 207189 208908 214150\n 215183 219447 220939 229773 231110 240881 242053 249139 278165 297526\n 300410 301053 304029 307449 308547 310702 312815 316053 316764 321828\n 322866 323586 325612 330842 331729 332188 333301 340344 342707 343667]\n"
    },
    {
     "output_type": "execute_result",
     "data": {
      "text/plain": "    avg_frq  max_frq  slope band  half_band\n0      7566     7580         207        133\n1     12649    12632         352        177\n2     17693    17684         235        168\n3    183032   183223         947        923\n4    188128   188657        1674       1610\n5    196604   196521         648        602\n6    204720   204696         243        165\n7    206298   206116        1781       1756\n8    208810   208818         196        184\n9    213721   213461         857        729\n10   214829   214999         708        708\n11   219208   219235         477        469\n12   220542   220267         793        793\n13   229035   229459        1476       1436\n14   230730   230508         759        749\n15   240211   240225        1339       1297\n16   241669   241777         768        745\n17   247776   246955        2726       2605\n18   276786   275820        2757       2729\n19   294465   296171        6122       5395\n20   300235   300288         349        330\n21   300856   300820         393        372\n22   303639   303408         779        779\n23   307029   306781         839        817\n24   308125   308181         844        826\n25   309825   310032        1753       1723\n26   312076   312079        1477       1428\n27   315863   315768         380        380\n28   316534   316642         460        460\n29   321592   321477         472        465\n30   322481   322583         769        769\n31   323374   323404         423        416\n32   325045   324694        1134       1103\n33   330598   330703         488        462\n34   331473   331359         512        484\n35   332086   332088         203        189\n36   332863   332834         876        853\n37   339436   339259        1816       1787\n38   342258   342055         897        885\n39   343320   343388         693        665",
      "text/html": "<div>\n<style scoped>\n    .dataframe tbody tr th:only-of-type {\n        vertical-align: middle;\n    }\n\n    .dataframe tbody tr th {\n        vertical-align: top;\n    }\n\n    .dataframe thead th {\n        text-align: right;\n    }\n</style>\n<table border=\"1\" class=\"dataframe\">\n  <thead>\n    <tr style=\"text-align: right;\">\n      <th></th>\n      <th>avg_frq</th>\n      <th>max_frq</th>\n      <th>slope band</th>\n      <th>half_band</th>\n    </tr>\n  </thead>\n  <tbody>\n    <tr>\n      <th>0</th>\n      <td>7566</td>\n      <td>7580</td>\n      <td>207</td>\n      <td>133</td>\n    </tr>\n    <tr>\n      <th>1</th>\n      <td>12649</td>\n      <td>12632</td>\n      <td>352</td>\n      <td>177</td>\n    </tr>\n    <tr>\n      <th>2</th>\n      <td>17693</td>\n      <td>17684</td>\n      <td>235</td>\n      <td>168</td>\n    </tr>\n    <tr>\n      <th>3</th>\n      <td>183032</td>\n      <td>183223</td>\n      <td>947</td>\n      <td>923</td>\n    </tr>\n    <tr>\n      <th>4</th>\n      <td>188128</td>\n      <td>188657</td>\n      <td>1674</td>\n      <td>1610</td>\n    </tr>\n    <tr>\n      <th>5</th>\n      <td>196604</td>\n      <td>196521</td>\n      <td>648</td>\n      <td>602</td>\n    </tr>\n    <tr>\n      <th>6</th>\n      <td>204720</td>\n      <td>204696</td>\n      <td>243</td>\n      <td>165</td>\n    </tr>\n    <tr>\n      <th>7</th>\n      <td>206298</td>\n      <td>206116</td>\n      <td>1781</td>\n      <td>1756</td>\n    </tr>\n    <tr>\n      <th>8</th>\n      <td>208810</td>\n      <td>208818</td>\n      <td>196</td>\n      <td>184</td>\n    </tr>\n    <tr>\n      <th>9</th>\n      <td>213721</td>\n      <td>213461</td>\n      <td>857</td>\n      <td>729</td>\n    </tr>\n    <tr>\n      <th>10</th>\n      <td>214829</td>\n      <td>214999</td>\n      <td>708</td>\n      <td>708</td>\n    </tr>\n    <tr>\n      <th>11</th>\n      <td>219208</td>\n      <td>219235</td>\n      <td>477</td>\n      <td>469</td>\n    </tr>\n    <tr>\n      <th>12</th>\n      <td>220542</td>\n      <td>220267</td>\n      <td>793</td>\n      <td>793</td>\n    </tr>\n    <tr>\n      <th>13</th>\n      <td>229035</td>\n      <td>229459</td>\n      <td>1476</td>\n      <td>1436</td>\n    </tr>\n    <tr>\n      <th>14</th>\n      <td>230730</td>\n      <td>230508</td>\n      <td>759</td>\n      <td>749</td>\n    </tr>\n    <tr>\n      <th>15</th>\n      <td>240211</td>\n      <td>240225</td>\n      <td>1339</td>\n      <td>1297</td>\n    </tr>\n    <tr>\n      <th>16</th>\n      <td>241669</td>\n      <td>241777</td>\n      <td>768</td>\n      <td>745</td>\n    </tr>\n    <tr>\n      <th>17</th>\n      <td>247776</td>\n      <td>246955</td>\n      <td>2726</td>\n      <td>2605</td>\n    </tr>\n    <tr>\n      <th>18</th>\n      <td>276786</td>\n      <td>275820</td>\n      <td>2757</td>\n      <td>2729</td>\n    </tr>\n    <tr>\n      <th>19</th>\n      <td>294465</td>\n      <td>296171</td>\n      <td>6122</td>\n      <td>5395</td>\n    </tr>\n    <tr>\n      <th>20</th>\n      <td>300235</td>\n      <td>300288</td>\n      <td>349</td>\n      <td>330</td>\n    </tr>\n    <tr>\n      <th>21</th>\n      <td>300856</td>\n      <td>300820</td>\n      <td>393</td>\n      <td>372</td>\n    </tr>\n    <tr>\n      <th>22</th>\n      <td>303639</td>\n      <td>303408</td>\n      <td>779</td>\n      <td>779</td>\n    </tr>\n    <tr>\n      <th>23</th>\n      <td>307029</td>\n      <td>306781</td>\n      <td>839</td>\n      <td>817</td>\n    </tr>\n    <tr>\n      <th>24</th>\n      <td>308125</td>\n      <td>308181</td>\n      <td>844</td>\n      <td>826</td>\n    </tr>\n    <tr>\n      <th>25</th>\n      <td>309825</td>\n      <td>310032</td>\n      <td>1753</td>\n      <td>1723</td>\n    </tr>\n    <tr>\n      <th>26</th>\n      <td>312076</td>\n      <td>312079</td>\n      <td>1477</td>\n      <td>1428</td>\n    </tr>\n    <tr>\n      <th>27</th>\n      <td>315863</td>\n      <td>315768</td>\n      <td>380</td>\n      <td>380</td>\n    </tr>\n    <tr>\n      <th>28</th>\n      <td>316534</td>\n      <td>316642</td>\n      <td>460</td>\n      <td>460</td>\n    </tr>\n    <tr>\n      <th>29</th>\n      <td>321592</td>\n      <td>321477</td>\n      <td>472</td>\n      <td>465</td>\n    </tr>\n    <tr>\n      <th>30</th>\n      <td>322481</td>\n      <td>322583</td>\n      <td>769</td>\n      <td>769</td>\n    </tr>\n    <tr>\n      <th>31</th>\n      <td>323374</td>\n      <td>323404</td>\n      <td>423</td>\n      <td>416</td>\n    </tr>\n    <tr>\n      <th>32</th>\n      <td>325045</td>\n      <td>324694</td>\n      <td>1134</td>\n      <td>1103</td>\n    </tr>\n    <tr>\n      <th>33</th>\n      <td>330598</td>\n      <td>330703</td>\n      <td>488</td>\n      <td>462</td>\n    </tr>\n    <tr>\n      <th>34</th>\n      <td>331473</td>\n      <td>331359</td>\n      <td>512</td>\n      <td>484</td>\n    </tr>\n    <tr>\n      <th>35</th>\n      <td>332086</td>\n      <td>332088</td>\n      <td>203</td>\n      <td>189</td>\n    </tr>\n    <tr>\n      <th>36</th>\n      <td>332863</td>\n      <td>332834</td>\n      <td>876</td>\n      <td>853</td>\n    </tr>\n    <tr>\n      <th>37</th>\n      <td>339436</td>\n      <td>339259</td>\n      <td>1816</td>\n      <td>1787</td>\n    </tr>\n    <tr>\n      <th>38</th>\n      <td>342258</td>\n      <td>342055</td>\n      <td>897</td>\n      <td>885</td>\n    </tr>\n    <tr>\n      <th>39</th>\n      <td>343320</td>\n      <td>343388</td>\n      <td>693</td>\n      <td>665</td>\n    </tr>\n  </tbody>\n</table>\n</div>"
     },
     "metadata": {},
     "execution_count": 8
    }
   ],
   "source": [
    "find_peak_slope_from_rd('siga.rd',250,25,1,0)"
   ]
  },
  {
   "cell_type": "code",
   "execution_count": 3,
   "metadata": {
    "tags": []
   },
   "outputs": [],
   "source": [
    "def bell(n,h,sigma=1):\n",
    "    return h*np.exp(-np.arange(-n//2,n//2)**2/2/sigma**2)\n",
    "def square(n,h,alpha=0,ripple=0):\n",
    "    if alpha>n//2: alpha = n//2\n",
    "    s = np.zeros(n)\n",
    "    s[0:alpha] = np.cos(np.linspace(np.pi,np.pi*2,alpha))+1\n",
    "    s[n-alpha:n] = np.cos(np.linspace(0,np.pi,alpha))+1\n",
    "    s[alpha:n-alpha] = 2+ripple*np.sin(np.linspace(0,12*np.pi,n-2*alpha))\n",
    "    return 0.5*h*s\n",
    "\n",
    "def stair(n,h1,h2,alpha=0,sigma=1,ripple=0):\n",
    "    return bell(n,h1,sigma)+square(n,h2,alpha,ripple)\n"
   ]
  },
  {
   "cell_type": "code",
   "execution_count": 4,
   "metadata": {},
   "outputs": [],
   "source": [
    "n=int(8000)\n",
    "x = np.zeros(n)\n",
    "x[100:1000] += square(900,1,alpha=0,ripple=0)\n",
    "x[1100:2000] += square(900,1,alpha=100,ripple=0)\n",
    "x[2100:3000] += square(900,1,alpha=300,ripple=0)\n",
    "x[3100:4000] += square(900,1,alpha=450,ripple=0)\n",
    "x[4100:5000] += square(900,0.5,alpha=0,ripple=0)\n",
    "x[5100:6000] += square(900,0.5,alpha=100,ripple=0)\n",
    "x[6100:7000] += square(900,0.5,alpha=300,ripple=0)\n",
    "x[7100:8000] += square(900,0.5,alpha=450,ripple=0)\n",
    "\n",
    "# stairs\n",
    "# x[100:1000] = stair(900,1,0.1,alpha=100,sigma=30,ripple=0)\n",
    "# x[1100:2000] = stair(900,0.4,1,alpha=200,sigma=10,ripple=0)\n",
    "# x[2100:3000] = stair(900,1,1,alpha=30,sigma=50,ripple=0)\n",
    "# x[3100:4000] = stair(900,1,1,alpha=300,sigma=30,ripple=0)\n",
    "nx = awgn(x,None,0.05)\n",
    "# plt.figure()\n",
    "# plt.plot(nx,'.',markersize=1)\n",
    "# plt.plot(x)\n",
    "\n",
    "# plt.show()\n"
   ]
  },
  {
   "cell_type": "code",
   "execution_count": null,
   "metadata": {},
   "outputs": [],
   "source": []
  }
 ]
}